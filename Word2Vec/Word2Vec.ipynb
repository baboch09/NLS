{
 "cells": [
  {
   "cell_type": "code",
   "execution_count": 36,
   "metadata": {},
   "outputs": [],
   "source": [
    "import numpy as np\n",
    "from keras.preprocessing.text import Tokenizer\n",
    "from keras.preprocessing import sequence\n",
    "from keras.utils import np_utils\n",
    "import math\n",
    "import os\n",
    "import pylab\n",
    "import csv\n",
    "import pymorphy2\n",
    "import sys\n",
    "import string\n",
    "from word2veclite import Word2Vec\n",
    "import matplotlib.pyplot as plt\n",
    "import re"
   ]
  },
  {
   "cell_type": "markdown",
   "metadata": {},
   "source": [
    "Импортируем все необходимые библиотеки"
   ]
  },
  {
   "cell_type": "code",
   "execution_count": 37,
   "metadata": {},
   "outputs": [],
   "source": [
    "def fix_text(strings_list):\n",
    "    black_list = [',', '.', '!','?','-',';','\\'','(',')','[',']','{','}']\n",
    "    morph = pymorphy2.MorphAnalyzer()\n",
    "    for i in range(len(strings_list)):\n",
    "        for j in range(len(black_list)):\n",
    "            strings_list[i] = strings_list[i].replace(black_list[j],'')\n",
    "        temp = strings_list[i].lower().split();\n",
    "        strings_list[i] = \"\"\n",
    "        for j in range(len(temp)):\n",
    "            p = morph.parse(temp[j])\n",
    "            if len(p)>0:\n",
    "                strings_list[i] += p[0].normal_form\n",
    "            else:\n",
    "                strings_list[i] += temp[j]\n",
    "            strings_list[i] += \" \"\n",
    "        strings_list[i].strip()\n",
    "    return strings_list\n",
    "\n",
    "def csv_dict_writer(path, fieldnames, data):\n",
    "    \"\"\"\n",
    "    Writes a CSV file using DictWriter\n",
    "    \"\"\"\n",
    "    with open(path, \"w\", newline='') as out_file:\n",
    "        writer = csv.DictWriter(out_file, delimiter=';', fieldnames=fieldnames)\n",
    "        writer.writeheader()\n",
    "        for row in data:\n",
    "            writer.writerow(row)"
   ]
  },
  {
   "cell_type": "code",
   "execution_count": 38,
   "metadata": {},
   "outputs": [],
   "source": [
    "def saveWeight(weight , W_name):\n",
    "    with open(W_name, 'w') as f:\n",
    "        for i in range(len(weight)):\n",
    "            for j in range(len(weight[i])):\n",
    "                f.write(str(weight[i][j])+';')\n",
    "            f.write('\\n')\n",
    "    f.close()"
   ]
  },
  {
   "cell_type": "markdown",
   "metadata": {},
   "source": [
    "Инициализация функций сохранений данных"
   ]
  },
  {
   "cell_type": "code",
   "execution_count": 39,
   "metadata": {},
   "outputs": [],
   "source": [
    "files = os.listdir(\"dictionary\")\n",
    "texts = []\n",
    "for j in range(len(files)):\n",
    "    corpus = \"\"\n",
    "    with open('dictionary/'+files[j]) as f:\n",
    "        arr = f.readlines()\n",
    "    for i in range(len(arr)):\n",
    "        corpus+=arr[i]\n",
    "    texts.append(re.sub(\"^\\s+|\\n|\\r|\\s+$\", '', corpus))\n",
    "texts = fix_text(texts)\n",
    "tokenizer = Tokenizer()\n",
    "d = {}\n",
    "for j in range(len(texts)):\n",
    "    text = texts[j].split()\n",
    "    tokenizer.fit_on_texts(text)\n",
    "   \n",
    "    for i in range(len(text) - 1):\n",
    "        if text[i + 1] == text[i]: continue\n",
    "        d[text[i]] = text.count(text[i])\n",
    "d = [{\"Токен\":k,\"Частота\":v} for k, v in sorted(d.items(), reverse=True,key=lambda item: item[1])]\n",
    "#csv_dict_writer(\"Word frequency.csv\", [\"Токен\",\"Частота\"], d)"
   ]
  },
  {
   "cell_type": "code",
   "execution_count": 40,
   "metadata": {},
   "outputs": [
    {
     "data": {
      "image/png": "[encoded data removed]",
      "text/plain": [
       "<Figure size 432x288 with 1 Axes>"
      ]
     },
     "metadata": {
      "needs_background": "light"
     },
     "output_type": "display_data"
    }
   ],
   "source": [
    "#corpus = texts\n",
    "corpus = \"I like playing football with my friends. All my friends like my ball\"\n",
    "cbow = Word2Vec(method=\"cbow\", corpus=corpus,\n",
    "                window_size=2, n_hidden=3,\n",
    "                n_epochs=600, learning_rate=0.1)\n",
    "W1, W2, loss_vs_epoch = cbow.run()\n",
    "#saveWeight(W1, 'W1.csv')\n",
    "#saveWeight(W2, 'W2.csv')\n",
    "plt.yticks(range(0,24,2))\n",
    "plt.ylim([0,15])\n",
    "plt.plot(loss_vs_epoch)\n",
    "plt.show()"
   ]
  },
  {
   "cell_type": "markdown",
   "metadata": {},
   "source": [
    "Обучаем нашу нейросеть"
   ]
  }
 ],
 "metadata": {
  "kernelspec": {
   "display_name": "Python 3",
   "language": "python",
   "name": "python3"
  },
  "language_info": {
   "codemirror_mode": {
    "name": "ipython",
    "version": 3
   },
   "file_extension": ".py",
   "mimetype": "text/x-python",
   "name": "python",
   "nbconvert_exporter": "python",
   "pygments_lexer": "ipython3",
   "version": "3.7.6"
  }
 },
 "nbformat": 4,
 "nbformat_minor": 4
}
